{
 "cells": [
  {
   "cell_type": "code",
   "execution_count": null,
   "metadata": {},
   "outputs": [],
   "source": [
    "import pydeck\n",
    "import pandas as pd\n",
    "\n",
    "DATA = 'https://raw.githubusercontent.com/ajduberstein/dartmouth_flood_data/master/floods.csv'\n",
    "df = pd.read_csv(DATA)\n",
    "df.head()"
   ]
  },
  {
   "cell_type": "code",
   "execution_count": null,
   "metadata": {},
   "outputs": [],
   "source": [
    "PNG_PATH = './placeholder.png'\n",
    "\n",
    "\n",
    "ICON_MAPPING = {\n",
    "  \"marker\": {\"x\": 0, \"y\": 0, \"width\": 32, \"height\": 32, \"mask\": True}\n",
    "};\n",
    "\n",
    "layer = pydeck.Layer(\n",
    "    'IconLayer',\n",
    "    df.tail(5)[['lng', 'lat']],\n",
    "    get_color=[255, 255, 255],\n",
    "    icon_mapping=ICON_MAPPING,\n",
    "    get_icon='marker',\n",
    "    get_position='[lng, lat]',\n",
    "    icon_atlas=PNG_PATH,\n",
    "    get_size=10000,\n",
    "    pickable=True,\n",
    "    auto_highlight=True,\n",
    ")\n",
    "r = pydeck.Deck(layers=[layer])\n",
    "r.show()"
   ]
  },
  {
   "cell_type": "code",
   "execution_count": null,
   "metadata": {},
   "outputs": [],
   "source": [
    "r.to_json()"
   ]
  }
 ],
 "metadata": {
  "kernelspec": {
   "display_name": "Python 3",
   "language": "python",
   "name": "python3"
  },
  "language_info": {
   "codemirror_mode": {
    "name": "ipython",
    "version": 3
   },
   "file_extension": ".py",
   "mimetype": "text/x-python",
   "name": "python",
   "nbconvert_exporter": "python",
   "pygments_lexer": "ipython3",
   "version": "3.7.4"
  }
 },
 "nbformat": 4,
 "nbformat_minor": 2
}
