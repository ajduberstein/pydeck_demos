{
 "cells": [
  {
   "cell_type": "markdown",
   "metadata": {},
   "source": [
    "# Workaround for GeoJSON type bug\n",
    "\n",
    "Workaround for pydeck 0.1.dev5's [issue processing GeoJSON](https://github.com/uber/deck.gl/issues/3836). Thank you [pancho111203](https://github.com/pancho111203) for filing the bug."
   ]
  },
  {
   "cell_type": "code",
   "execution_count": null,
   "metadata": {},
   "outputs": [],
   "source": [
    "import pandas as pd\n",
    "\n",
    "# Load in the JSON data\n",
    "DATA_URL = 'https://raw.githubusercontent.com/uber-common/deck.gl-data/master/examples/geojson/vancouver-blocks.json'\n",
    "json = pd.read_json(DATA_URL)\n",
    "polygon_df = pd.DataFrame()\n",
    "\n",
    "# Parse the geometry out in Pandas and pass it to deck.gl's PolygonLayer\n",
    "# I'll make the next release such that you don't have to do this\n",
    "# manual extraction.\n",
    "polygon_df['coordinates'] = json['features'].apply(lambda row: row['geometry']['coordinates'])\n",
    "polygon_df['valuePerSqm'] = json['features'].apply(lambda row: row['properties']['valuePerSqm'])\n",
    "polygon_df['growth'] = json['features'].apply(lambda row: row['properties']['growth'])\n",
    "polygon_df.head()"
   ]
  },
  {
   "cell_type": "code",
   "execution_count": null,
   "metadata": {},
   "outputs": [],
   "source": [
    "import pydeck\n",
    "\n",
    "INITIAL_VIEW_STATE = pydeck.ViewState(\n",
    "    latitude=49.254,\n",
    "    longitude=-123.13,\n",
    "    zoom=11,\n",
    "    max_zoom=16,\n",
    "    pitch=45,\n",
    "    bearing=0\n",
    ")\n",
    "\n",
    "geojson = pydeck.Layer(\n",
    "    'PolygonLayer',\n",
    "    polygon_df,\n",
    "    opacity=0.8,\n",
    "    get_polygon='coordinates',\n",
    "    stroked=False,\n",
    "    filled=True,\n",
    "    extruded=True,\n",
    "    wireframe=True,\n",
    "    get_elevation='valuePerSqm / 20',\n",
    "    get_fill_color='[255, 255, growth * 255]',\n",
    "    get_line_color=[255, 255, 255],\n",
    "    pickable=True\n",
    ")\n",
    "\n",
    "r = pydeck.Deck(\n",
    "    layers=[geojson],\n",
    "    initial_view_state=INITIAL_VIEW_STATE)\n",
    "r.to_html(iframe_width=1000)"
   ]
  }
 ],
 "metadata": {
  "kernelspec": {
   "display_name": "Python 3",
   "language": "python",
   "name": "python3"
  },
  "language_info": {
   "codemirror_mode": {
    "name": "ipython",
    "version": 3
   },
   "file_extension": ".py",
   "mimetype": "text/x-python",
   "name": "python",
   "nbconvert_exporter": "python",
   "pygments_lexer": "ipython3",
   "version": "3.7.4"
  }
 },
 "nbformat": 4,
 "nbformat_minor": 2
}
